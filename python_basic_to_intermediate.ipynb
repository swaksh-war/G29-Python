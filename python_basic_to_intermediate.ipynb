{
 "cells": [
  {
   "cell_type": "markdown",
   "metadata": {},
   "source": [
    "## Variables\n",
    "<p>In python we need to declare a variable by passing its name and the value it will contain</p>"
   ]
  },
  {
   "cell_type": "code",
   "execution_count": 1,
   "metadata": {},
   "outputs": [],
   "source": [
    "# 10 is a whole number that we can refer as Integer\n",
    "a = 10\n",
    "# Swakshwar is a string that is assigned to variable b\n",
    "b = 'Swakshwar'\n"
   ]
  },
  {
   "cell_type": "markdown",
   "metadata": {},
   "source": [
    "## Data Types in Python\n",
    "\n",
    "### Data Types are mainly of 3 types:\n",
    "    1. Numerical\n",
    "    2. Textual\n",
    "    3. Boolean\n",
    "\n",
    "### Numerical Data Types\n",
    "    1. Integer :- Any whole Number (i.e - 10, 20, 31, 32)\n",
    "    2. Flaot :- Any Decimal Number (i.e. - 9.88, 3.212)\n",
    "    3. Complex :- Any Complex number (i.e. - 1 + (-1)**(0.5))\n",
    "\n",
    "### Textual Data Types\n",
    "    String :-\n",
    "        a. raw string\n",
    "        b. formattable string\n",
    "        c. byte string\n",
    "\n",
    "### Boolean Data Type\n",
    "    Boolean - True/False    "
   ]
  },
  {
   "cell_type": "code",
   "execution_count": 3,
   "metadata": {},
   "outputs": [],
   "source": [
    "an_integer = 10\n",
    "a_float = 10.10\n",
    "a_complex = complex(10 + 2j)\n",
    "\n",
    "a_string = \"I am a boy\"\n",
    "\n",
    "a_boolean = True"
   ]
  },
  {
   "cell_type": "code",
   "execution_count": 5,
   "metadata": {},
   "outputs": [
    {
     "name": "stdout",
     "output_type": "stream",
     "text": [
      "<class 'int'> <class 'float'> <class 'complex'> <class 'str'> <class 'bool'>\n"
     ]
    }
   ],
   "source": [
    "print(type(an_integer), type(a_float), type(a_complex), type(a_string), type(a_boolean))"
   ]
  },
  {
   "cell_type": "markdown",
   "metadata": {},
   "source": [
    "### Number of different bases\n",
    "    1. Binary\n",
    "    2. Decimal\n",
    "    3. Octal\n",
    "    4. Hexadecimal"
   ]
  },
  {
   "cell_type": "code",
   "execution_count": 6,
   "metadata": {},
   "outputs": [
    {
     "name": "stdout",
     "output_type": "stream",
     "text": [
      "0b11 0o27 0x2d\n"
     ]
    }
   ],
   "source": [
    "a_binary = bin(3)\n",
    "an_octal = oct(23)\n",
    "a_hexadecimal = hex(45)\n",
    "\n",
    "print(a_binary, an_octal, a_hexadecimal)"
   ]
  },
  {
   "cell_type": "markdown",
   "metadata": {},
   "source": [
    "## Opearators\n",
    "    1. Arithmetic Operators -> Value (numerical)\n",
    "    2. Bitwise Operators -> Value (numerical)\n",
    "    3. Logical Operators -> Boolean (True/False)\n",
    "    4. Comparative Operators -> Boolean (True/False)\n",
    "    5. Assigning Operators -> assigns"
   ]
  },
  {
   "cell_type": "markdown",
   "metadata": {},
   "source": [
    "## Assigning Operators\n",
    "    Symbol -> '='\n",
    "    Usage -> Assign a value or object to a variable"
   ]
  },
  {
   "cell_type": "code",
   "execution_count": 7,
   "metadata": {},
   "outputs": [],
   "source": [
    "balaji = 10"
   ]
  },
  {
   "cell_type": "markdown",
   "metadata": {},
   "source": [
    "## Arithmetic Operators\n",
    "    1. Addition -> '+'\n",
    "    2. Subtraction -> '-'\n",
    "    3. Divide -> '/' -> It will produce float value after divide (5/2 -> 2.5)\n",
    "    4. Double Divide -> '//' It will produce the floor value of the division after performing the operation (5//2 -> 2)\n",
    "    5. Multiply -> '*'\n",
    "    6. Modulo -> '%' (remainder)"
   ]
  },
  {
   "cell_type": "code",
   "execution_count": 8,
   "metadata": {},
   "outputs": [],
   "source": [
    "example_addition = 10 + 2\n",
    "\n",
    "# You have to perform all the arithmetic operations by your self"
   ]
  },
  {
   "cell_type": "markdown",
   "metadata": {},
   "source": [
    "## Logical Operators\n",
    "    1. And -> it requires all the condition to be satisfied to give a result of True (Just like AND gate)\n",
    "    2. Or -> it requires any of the condition to be satisfied to give a result of True (Just like OR gate)\n",
    "    3. Not -> produces the opposite result of the condition (Just like NOT gate)"
   ]
  },
  {
   "cell_type": "markdown",
   "metadata": {},
   "source": [
    "## Comparative operators\n",
    "    1. Greater That Equal to -> >= (> =) -> Checks whether the LHS is Greater than or equal to the RHS (Produces True/False)\n",
    "    2. Not Equals To -> !=(! =) -> Checks whether the LHS is not equal to the RHS (Produces True/False)\n",
    "    3. Less Than Equal To -> <= (< =) -> Checks whether the LHS is less than or equal to the RHS (Produces True/False)\n",
    "    4. Equal To -> == (= =) -> Checks whether the LHS is equal to the RHS (Produces True/False)\n",
    "    5. Less Than -> < -> Checks whether the LHS is less than the RHS (Produces True/False)\n",
    "    6. Greater Than -> > -> Checks whether the LHS is greater than the RHS (Produces True/False)"
   ]
  },
  {
   "cell_type": "code",
   "execution_count": 14,
   "metadata": {},
   "outputs": [
    {
     "name": "stdout",
     "output_type": "stream",
     "text": [
      "False\n"
     ]
    }
   ],
   "source": [
    "check_greater_than = 10 > 11\n",
    "print(check_greater_than)\n",
    "# Create other examples...\n"
   ]
  },
  {
   "cell_type": "markdown",
   "metadata": {},
   "source": [
    "## How to take an input in python\n",
    "\n",
    "<code>a = input(\"enter your monthly salary\")</code>"
   ]
  },
  {
   "cell_type": "markdown",
   "metadata": {},
   "source": [
    "## Conditional Statements\n",
    "\n",
    "    1. If Block\n",
    "    2. Else-If(elif)\n",
    "    3. Else Block\n",
    "\n",
    "### Three terms to be remembered\n",
    "    - break\n",
    "    - continue\n",
    "    - pass\n",
    "    "
   ]
  },
  {
   "cell_type": "markdown",
   "metadata": {},
   "source": [
    "W.A.P. where it will take an input of monthly salary and will determine the mode of travel he/she can afford.\n",
    "\n",
    "    Condition 1 :- if salary is more than 50000/- he/she can avail thier personal car\n",
    "    Condition 2 :- if salary is more than 25000/- and less than 50000/- he/she can avail Uber/Ola\n",
    "    Condition 3 :- if salary is less than 25000/- he/she can avail public Transport\n",
    "\n",
    "    Other than this :- You didnt entered a valid number for the conditions"
   ]
  },
  {
   "cell_type": "code",
   "execution_count": 11,
   "metadata": {},
   "outputs": [
    {
     "name": "stdout",
     "output_type": "stream",
     "text": [
      "he/she can avail public transportation\n"
     ]
    }
   ],
   "source": [
    "monthly_salary = int(input(\"Enter your monthly salary: \"))\n",
    "\n",
    "if (monthly_salary > 50000):\n",
    "    print(\"he/she can avail their personal car\")\n",
    "elif (monthly_salary > 25000) and (monthly_salary < 50000):\n",
    "    print(\"he/she can avail Uber\")\n",
    "elif (monthly_salary < 25000):\n",
    "    print(\"he/she can avail public transportation\")\n",
    "else:\n",
    "    print(\"You didnt mentioned a proper value in range\")"
   ]
  },
  {
   "cell_type": "markdown",
   "metadata": {},
   "source": [
    "WAP where you will take input for gender and age and tell that whether the person is allowed to get the facility.\n",
    "\n",
    "    Condition 1 :- gender == 'M' and age >= 60\n",
    "    Condition 2 :- gender == 'F' and age >= 55\n",
    "    Otherwise :- No"
   ]
  },
  {
   "cell_type": "code",
   "execution_count": null,
   "metadata": {},
   "outputs": [],
   "source": [
    "gender = input(\"Enter the gender of the person(M(Male)/F(Female)): \")\n",
    "age = int(input(\"Enter the age of the person: \"))\n",
    "\n",
    "if gender == \"M\" and age >= 60:\n",
    "    print(\"You are eligible for the facility\")\n",
    "elif gender == \"F\" and age >= 55:\n",
    "    print(\"You are eligible for the facility\")\n",
    "else:\n",
    "    print(\"You are not eligible for the facility\")"
   ]
  },
  {
   "cell_type": "markdown",
   "metadata": {},
   "source": [
    "<strong>Lets make it a bit short using Logical Operator</strong>"
   ]
  },
  {
   "cell_type": "code",
   "execution_count": 1,
   "metadata": {},
   "outputs": [
    {
     "name": "stdout",
     "output_type": "stream",
     "text": [
      "You are eligible for the facility\n"
     ]
    }
   ],
   "source": [
    "gender = input(\"Enter the gender of the person(M(Male)/F(Female)): \")\n",
    "age = int(input(\"Enter the age of the person: \"))\n",
    "\n",
    "if (gender == \"M\" and age >= 60 ) or (gender == \"F\" and age >= 55):\n",
    "    print(\"You are eligible for the facility\")\n",
    "else:\n",
    "    print(\"You are not eligible for the facility\")"
   ]
  },
  {
   "cell_type": "markdown",
   "metadata": {},
   "source": [
    "## Loops in Python\n",
    "\n",
    " - for loop\n",
    " - while loop\n",
    "\n",
    "### For Loop\n",
    "\n",
    "    - Iterative Through Indexing\n",
    "    - Direct Iteration through the Data Structure\n",
    "\n",
    "### Iteration through Intexing\n",
    "\n",
    "<code> for variable in range(start, end, step): </code>\n",
    "\n",
    "start - Inclusive \n",
    "end - Exclusive\n",
    "\n",
    "<strong>Way to define a for loop in indexing way</strong>\n",
    "<ul>\n",
    "    <li><strong>for i(variable) in range(start, end, step):</strong></li>\n",
    "    <li><strong>for i in range(start, end): [default value of step will be taken as 1]</strong></li>\n",
    "    <li><strong>for i in range(end): [default value if start=0 and step=1]</strong></li>\n",
    "</ul>\n",
    "    "
   ]
  },
  {
   "cell_type": "code",
   "execution_count": 3,
   "metadata": {},
   "outputs": [
    {
     "name": "stdout",
     "output_type": "stream",
     "text": [
      "2\n",
      "4\n",
      "6\n",
      "8\n",
      "10\n"
     ]
    }
   ],
   "source": [
    "# wap where user will give any number as input -> n and we have to print first n even numbers\n",
    "# example 1 -> n = 5 output -> 2, 4, 6, 8, 10\n",
    "#example 2 -> n = 12 output -> 2, 4, 6, 8, 10, 12, 14, 16, 18, 20, 22, 24\n",
    "n = int(input(\"Enter the number : \"))\n",
    "even_number = 2\n",
    "for i in range(n):\n",
    "    print(even_number)\n",
    "    even_number = even_number + 2"
   ]
  },
  {
   "cell_type": "code",
   "execution_count": 8,
   "metadata": {},
   "outputs": [
    {
     "name": "stdout",
     "output_type": "stream",
     "text": [
      "0\n",
      "1\n",
      "2\n",
      "3\n",
      "4\n",
      "5\n",
      "6\n",
      "8\n",
      "9\n"
     ]
    }
   ],
   "source": [
    "for i in range(100):\n",
    "    if i == 7:\n",
    "        continue\n",
    "\n",
    "    if i == 10:\n",
    "        break\n",
    "\n",
    "    if i == 3:\n",
    "        pass\n",
    "    \n",
    "    print(i)"
   ]
  },
  {
   "cell_type": "code",
   "execution_count": 9,
   "metadata": {},
   "outputs": [
    {
     "name": "stdout",
     "output_type": "stream",
     "text": [
      "2\n",
      "4\n",
      "6\n",
      "8\n",
      "10\n",
      "12\n",
      "14\n"
     ]
    }
   ],
   "source": [
    "# wap where user will give an input of number and you have to print all the even numbers lesser than the value\n",
    "#example 1 -> n = 15 output -> 2, 4, 6, 8, 10, 12, 14\n",
    "n = int(input(\"Enter a number : \"))\n",
    "\n",
    "even_number = 2\n",
    "for i in range(n):\n",
    "    if even_number > n:\n",
    "        break\n",
    "    print(even_number)\n",
    "    even_number = even_number + 2\n"
   ]
  },
  {
   "cell_type": "code",
   "execution_count": 10,
   "metadata": {},
   "outputs": [
    {
     "name": "stdout",
     "output_type": "stream",
     "text": [
      "2\n",
      "4\n",
      "6\n",
      "8\n",
      "10\n",
      "12\n",
      "14\n"
     ]
    }
   ],
   "source": [
    "n = int(input(\"Enter a number : \"))\n",
    "for i in range(2, n, 2):\n",
    "    print(i)"
   ]
  },
  {
   "cell_type": "markdown",
   "metadata": {},
   "source": [
    "## While Loop\n",
    "\n",
    "<strong>Example in English :-</strong>\n",
    "<p>I was eating chips while the movie was running.</p>\n",
    "<code>\n",
    "While(condition):\n",
    "    do something\n",
    "</code>"
   ]
  },
  {
   "cell_type": "code",
   "execution_count": 2,
   "metadata": {},
   "outputs": [
    {
     "name": "stdout",
     "output_type": "stream",
     "text": [
      "0\n",
      "1\n",
      "2\n",
      "3\n",
      "4\n",
      "5\n",
      "6\n",
      "7\n",
      "8\n",
      "9\n",
      "10\n",
      "we have completed the process\n"
     ]
    }
   ],
   "source": [
    "i = 0\n",
    "while (i <= 10):\n",
    "    print(i)\n",
    "    i += 1 # i = i + 1\n",
    "\n",
    "print(\"we have completed the process\")"
   ]
  },
  {
   "cell_type": "code",
   "execution_count": 3,
   "metadata": {},
   "outputs": [
    {
     "name": "stdout",
     "output_type": "stream",
     "text": [
      "0\n",
      "1\n",
      "2\n",
      "3\n",
      "4\n",
      "5\n",
      "6\n",
      "7\n",
      "8\n",
      "9\n",
      "10\n",
      "11\n",
      "12\n"
     ]
    }
   ],
   "source": [
    "i = 0\n",
    "while (True):\n",
    "    print(i)\n",
    "    if i == 12:\n",
    "        break\n",
    "    i += 1"
   ]
  },
  {
   "cell_type": "code",
   "execution_count": 4,
   "metadata": {},
   "outputs": [
    {
     "name": "stdout",
     "output_type": "stream",
     "text": [
      "[10, 'sahil', True, 5.32]\n"
     ]
    }
   ],
   "source": [
    "list_a = [10, 'sahil', True, 5.32]\n",
    "\n",
    "print(list_a)"
   ]
  },
  {
   "cell_type": "code",
   "execution_count": 6,
   "metadata": {},
   "outputs": [
    {
     "name": "stdout",
     "output_type": "stream",
     "text": [
      "10\n",
      "sahil\n",
      "True\n",
      "5.32\n"
     ]
    }
   ],
   "source": [
    "#To iterate through the list\n",
    "\n",
    "# get the length of the list\n",
    "\n",
    "len_a = len(list_a) #4\n",
    "for i in range(len_a):\n",
    "    print(list_a[i])\n",
    "\n",
    "\n",
    "\n"
   ]
  },
  {
   "cell_type": "markdown",
   "metadata": {},
   "source": [
    "## Direct Iteration using For Loop"
   ]
  },
  {
   "cell_type": "code",
   "execution_count": 7,
   "metadata": {},
   "outputs": [
    {
     "name": "stdout",
     "output_type": "stream",
     "text": [
      "10\n",
      "sahil\n",
      "True\n",
      "5.32\n"
     ]
    }
   ],
   "source": [
    "for element in list_a:\n",
    "    print(element)"
   ]
  },
  {
   "cell_type": "markdown",
   "metadata": {},
   "source": [
    "## Create a Calculator\n",
    "\n",
    " - Calculator should not end its process until the user press 'q'\n",
    " - Calculator should be able to do all basic Arithmetic Operations"
   ]
  },
  {
   "cell_type": "code",
   "execution_count": 3,
   "metadata": {},
   "outputs": [
    {
     "name": "stdout",
     "output_type": "stream",
     "text": [
      "30\n",
      "15\n",
      "Found q in input Exiting the program.\n"
     ]
    }
   ],
   "source": [
    "flag = True\n",
    "while (flag):\n",
    "    num1 = input(\"Enter the first Number: \")\n",
    "    num2 = input(\"Enter the second Number: \")\n",
    "    operation = input(\"Operation: \")\n",
    "    if num1 != 'q' and num2 != 'q' and operation != 'q':\n",
    "        num1  = int(num1)\n",
    "        num2 = int(num2)\n",
    "        if operation == '+':\n",
    "            print(num1 + num2)\n",
    "        elif operation == '-':\n",
    "            print(num1 - num2)\n",
    "        elif operation == '*':\n",
    "            print(num1 * num2)\n",
    "        elif operation == '/' :\n",
    "            print(num1/num2)\n",
    "        else:\n",
    "            print(\"Error in your input please cross-check\")\n",
    "    else:\n",
    "        flag = False\n",
    "        print(\"Found q in input Exiting the program.\")"
   ]
  },
  {
   "cell_type": "markdown",
   "metadata": {},
   "source": [
    "## List\n",
    "<p>List is a linear data structure that can store different type of data in consecutive memory space</p>\n"
   ]
  },
  {
   "cell_type": "code",
   "execution_count": 2,
   "metadata": {},
   "outputs": [
    {
     "name": "stdout",
     "output_type": "stream",
     "text": [
      "[]\n"
     ]
    }
   ],
   "source": [
    "list_b = [1, 2, 3, 4]\n",
    "list_b.clear()\n",
    "print(list_b)"
   ]
  },
  {
   "cell_type": "markdown",
   "metadata": {},
   "source": [
    "### Method of list\n",
    " - Append - adding an element to the end of the list\n",
    " - pop - removes the last element from the list (we can pass an index and it will remove the element present in that index)\n",
    " - clear - removes all the elements from the list"
   ]
  },
  {
   "cell_type": "markdown",
   "metadata": {},
   "source": [
    "<p>Index -> index is the position of any element in the list or any hashable. so if the element is the first then the index will be 0.</p>\n",
    "<strong>for a list/array of length 5 will have the last index as 4</strong>"
   ]
  },
  {
   "cell_type": "code",
   "execution_count": 3,
   "metadata": {},
   "outputs": [
    {
     "name": "stdout",
     "output_type": "stream",
     "text": [
      "[10, 20]\n",
      "[20]\n",
      "[]\n"
     ]
    }
   ],
   "source": [
    "list_a = []\n",
    "list_a.append(10)\n",
    "list_a.append(20)\n",
    "print(list_a)\n",
    "list_a.pop(0)\n",
    "print(list_a)\n",
    "list_a.clear()\n",
    "print(list_a)"
   ]
  },
  {
   "cell_type": "markdown",
   "metadata": {},
   "source": [
    "<strong>Some more Methods</strong>\n",
    "<ul>\n",
    "    <li>insert - insert an element in a particular position</li>\n",
    "    <li>remove - remove an element with a particular value from a list</li>\n",
    "</ul>"
   ]
  },
  {
   "cell_type": "code",
   "execution_count": 4,
   "metadata": {},
   "outputs": [],
   "source": [
    "this_is_a_variable = 0 #snake casing\n",
    "thisIsAVariable = 0 # camel casing\n",
    "ThisIsAVariable = 0 # kebab casing"
   ]
  },
  {
   "cell_type": "markdown",
   "metadata": {},
   "source": [
    "<strong>For the case of insert if we pass an index which is out of the range python will add the element at the end of the list</strong>"
   ]
  },
  {
   "cell_type": "code",
   "execution_count": 5,
   "metadata": {},
   "outputs": [
    {
     "name": "stdout",
     "output_type": "stream",
     "text": [
      "[10, 20, 30, 40, 50]\n",
      "[10, 30, 40, 50]\n"
     ]
    }
   ],
   "source": [
    "list_c = [10, 20,30,40]\n",
    "list_c.insert(10, 50)\n",
    "print(list_c)\n",
    "list_c.remove(20)\n",
    "print(list_c)"
   ]
  },
  {
   "cell_type": "markdown",
   "metadata": {},
   "source": [
    "<strong>Remove will remove the first occurence of the value it has been asked to.</strong>"
   ]
  },
  {
   "cell_type": "code",
   "execution_count": 6,
   "metadata": {},
   "outputs": [
    {
     "name": "stdout",
     "output_type": "stream",
     "text": [
      "[20, 10, 20, 10, 20]\n"
     ]
    }
   ],
   "source": [
    "list_d = [10, 20, 10, 20, 10, 20]\n",
    "list_d.remove(10)\n",
    "print(list_d)"
   ]
  },
  {
   "cell_type": "markdown",
   "metadata": {},
   "source": [
    "<p>Some more Method</p>\n",
    "<ul>\n",
    "    <li>Extend - lets say 2 list are there if i call extend on the first list with the parameter of 2nd list it will add the elements at the end of the first list</li>\n",
    "    <li>Count - give us the count of any value/data in a list</li>\n",
    "    <li>Copy - copies a list to another variable</li>\n",
    "    <li>Sort - sorts a list in increasing order</li>\n",
    "    <li>Reverse - reverse a list</li>\n",
    "    <li>index - give us the index of first occurence of any element</li>\n",
    "</ul>"
   ]
  },
  {
   "cell_type": "code",
   "execution_count": 7,
   "metadata": {},
   "outputs": [
    {
     "name": "stdout",
     "output_type": "stream",
     "text": [
      "[1, 2, 4, 5, 7, 8, 9]\n"
     ]
    }
   ],
   "source": [
    "#Extend\n",
    "list_m = [1, 2, 4, 5]\n",
    "list_n = [7, 8, 9]\n",
    "list_m.extend(list_n)\n",
    "print(list_m)"
   ]
  },
  {
   "cell_type": "code",
   "execution_count": 8,
   "metadata": {},
   "outputs": [
    {
     "name": "stdout",
     "output_type": "stream",
     "text": [
      "[1, 2, 4, 5, 7, 8, 9]\n"
     ]
    }
   ],
   "source": [
    "#Copy\n",
    "list_o = list_m.copy()\n",
    "print(list_o)"
   ]
  },
  {
   "cell_type": "code",
   "execution_count": 9,
   "metadata": {},
   "outputs": [
    {
     "data": {
      "text/plain": [
       "3"
      ]
     },
     "execution_count": 9,
     "metadata": {},
     "output_type": "execute_result"
    }
   ],
   "source": [
    "#Count\n",
    "list_d = [10, 20, 10, 20, 10, 20]\n",
    "list_d.count(10)"
   ]
  },
  {
   "cell_type": "code",
   "execution_count": 10,
   "metadata": {},
   "outputs": [
    {
     "data": {
      "text/plain": [
       "1"
      ]
     },
     "execution_count": 10,
     "metadata": {},
     "output_type": "execute_result"
    }
   ],
   "source": [
    "#Index\n",
    "\n",
    "list_d.index(20)"
   ]
  },
  {
   "cell_type": "code",
   "execution_count": 11,
   "metadata": {},
   "outputs": [
    {
     "name": "stdout",
     "output_type": "stream",
     "text": [
      "[10, 10, 10, 20, 20, 20]\n"
     ]
    }
   ],
   "source": [
    "#Sort\n",
    "list_d.sort()\n",
    "print(list_d)"
   ]
  },
  {
   "cell_type": "code",
   "execution_count": 12,
   "metadata": {},
   "outputs": [
    {
     "name": "stdout",
     "output_type": "stream",
     "text": [
      "[9, 8, 7, 5, 4, 2, 1]\n"
     ]
    }
   ],
   "source": [
    "#reverse \n",
    "list_o.reverse()\n",
    "print(list_o)"
   ]
  },
  {
   "cell_type": "markdown",
   "metadata": {},
   "source": [
    "#### WAP Where the input will be a list of numbers and you have to perform power of 2 of each element and print the list at the end\n",
    "\n",
    "<p>input :- list_a = [1, 2, 3, 4, 5]</p>\n",
    "<p>output :- list_a = [1, 4, 9, 16, 25]</p>\n",
    "<p>We fetch the list update the value of each element with its square number</p>"
   ]
  },
  {
   "cell_type": "code",
   "execution_count": 13,
   "metadata": {},
   "outputs": [
    {
     "name": "stdout",
     "output_type": "stream",
     "text": [
      "[1, 4, 9, 16, 25]\n"
     ]
    }
   ],
   "source": [
    "list_a = [1, 2, 3, 4, 5]\n",
    "for i in range(len(list_a)):\n",
    "    list_a[i] = list_a[i] * list_a[i]\n",
    "print(list_a)"
   ]
  },
  {
   "cell_type": "markdown",
   "metadata": {},
   "source": [
    "## WAP where user will give a number input(n) and then it will give n different names and u have to create a list with the names\n",
    "    - n = 5\n",
    "    - a for loop will run and it will ask for a name and add it to the list\n",
    "    - print the list at the end"
   ]
  },
  {
   "cell_type": "markdown",
   "metadata": {},
   "source": [
    "### Tuples and Set"
   ]
  },
  {
   "cell_type": "markdown",
   "metadata": {},
   "source": [
    "<strong>Difference between tuple/list/set</strong>\n",
    "<table>\n",
    "<tr>\n",
    "<th>Tuple</th>\n",
    "<th>Set</th>\n",
    "<th>List</th>\n",
    "</tr>\n",
    "<tr>\n",
    "<td>Immutable</td>\n",
    "<td>Mutable</td>\n",
    "<td>Mutable</td>\n",
    "</tr>\n",
    "<tr>\n",
    "<td>Symbol = ()</td>\n",
    "<td>Symbol = {}</td>\n",
    "<td>Symbol = []</td>\n",
    "</tr>\n",
    "<tr>\n",
    "<td>Ordered</td>\n",
    "<td>Unordered</td>\n",
    "<td>Ordered</td>\n",
    "</tr>\n",
    "</table>"
   ]
  },
  {
   "cell_type": "code",
   "execution_count": 4,
   "metadata": {},
   "outputs": [],
   "source": [
    "# Lets declare a Tuple\n",
    "a_tuple = ('Balaji', \"Madhu\", \"Saikiran\", \"Narendhra\")"
   ]
  },
  {
   "cell_type": "code",
   "execution_count": 5,
   "metadata": {},
   "outputs": [
    {
     "name": "stdout",
     "output_type": "stream",
     "text": [
      "{0, 1, 2, 3}\n"
     ]
    }
   ],
   "source": [
    "#lets create a set\n",
    "a_set = {0, 1, 2, 3, 1, 2, 3}\n",
    "\n",
    "print(a_set)"
   ]
  },
  {
   "cell_type": "code",
   "execution_count": 8,
   "metadata": {},
   "outputs": [],
   "source": [
    "a_set = {0, 1, 2, 3, 4, 5, 6}\n",
    "b_set = {1, 2, 3, 5, 6, 8, 9}\n",
    "#whatever missing from a_set from b_set will be added to a_set\n",
    "a_set.update(b_set)"
   ]
  },
  {
   "cell_type": "code",
   "execution_count": 9,
   "metadata": {},
   "outputs": [
    {
     "data": {
      "text/plain": [
       "{0, 1, 2, 3, 4, 5, 6, 8, 9}"
      ]
     },
     "execution_count": 9,
     "metadata": {},
     "output_type": "execute_result"
    }
   ],
   "source": [
    "a_set"
   ]
  },
  {
   "cell_type": "code",
   "execution_count": 10,
   "metadata": {},
   "outputs": [],
   "source": [
    "a_set.discard(0)"
   ]
  },
  {
   "cell_type": "code",
   "execution_count": 11,
   "metadata": {},
   "outputs": [
    {
     "data": {
      "text/plain": [
       "{1, 2, 3, 4, 5, 6, 8, 9}"
      ]
     },
     "execution_count": 11,
     "metadata": {},
     "output_type": "execute_result"
    }
   ],
   "source": [
    "a_set"
   ]
  },
  {
   "cell_type": "code",
   "execution_count": 12,
   "metadata": {},
   "outputs": [],
   "source": [
    "a_set.add(10)"
   ]
  },
  {
   "cell_type": "code",
   "execution_count": 13,
   "metadata": {},
   "outputs": [
    {
     "data": {
      "text/plain": [
       "{1, 2, 3, 4, 5, 6, 8, 9, 10}"
      ]
     },
     "execution_count": 13,
     "metadata": {},
     "output_type": "execute_result"
    }
   ],
   "source": [
    "a_set"
   ]
  },
  {
   "cell_type": "markdown",
   "metadata": {},
   "source": [
    "### Functions in Python\n",
    "\n",
    "<p>Functions are block of code that will execute only when we call the function.</p>\n",
    "<p>i.e. - print is a function that will take any object as input and print the string form of the object in the console.</p>"
   ]
  },
  {
   "cell_type": "markdown",
   "metadata": {},
   "source": [
    "### Parts of a function\n",
    "\n",
    "keyword -> def\n",
    "function_name -> \n",
    "parameters -> optional\n",
    "\n",
    "function_body -> whatever i want the function to do\n",
    "\n",
    "termination -> return / None\n",
    "\n"
   ]
  },
  {
   "cell_type": "code",
   "execution_count": 1,
   "metadata": {},
   "outputs": [
    {
     "name": "stdout",
     "output_type": "stream",
     "text": [
      "Hello world\n"
     ]
    }
   ],
   "source": [
    "# Lets see a function\n",
    "def print_anything(parameter):\n",
    "    print(parameter)\n",
    "\n",
    "print_anything(\"Hello world\")"
   ]
  },
  {
   "cell_type": "code",
   "execution_count": 2,
   "metadata": {},
   "outputs": [
    {
     "data": {
      "text/plain": [
       "5"
      ]
     },
     "execution_count": 2,
     "metadata": {},
     "output_type": "execute_result"
    }
   ],
   "source": [
    "def add(a, b):\n",
    "    return a+b\n",
    "\n",
    "add(2, 3)"
   ]
  },
  {
   "cell_type": "markdown",
   "metadata": {},
   "source": [
    "if we dont know about the parameters or maybe the parameters are different in number in each cases we will use a method called as *method"
   ]
  },
  {
   "cell_type": "code",
   "execution_count": 3,
   "metadata": {},
   "outputs": [],
   "source": [
    "def add(*params):\n",
    "    res = 0\n",
    "    for i in params:\n",
    "        res += i\n",
    "    return res"
   ]
  },
  {
   "cell_type": "code",
   "execution_count": 4,
   "metadata": {},
   "outputs": [
    {
     "name": "stdout",
     "output_type": "stream",
     "text": [
      "5\n",
      "12\n"
     ]
    }
   ],
   "source": [
    "print(add(2, 3))\n",
    "print(add(3, 4, 5))"
   ]
  },
  {
   "cell_type": "code",
   "execution_count": null,
   "metadata": {},
   "outputs": [],
   "source": [
    "def cus_mul(*params):\n",
    "    res = 1\n",
    "    for i in params:\n",
    "        res *= i\n",
    "    return res\n",
    "\n",
    "print(cus_mul(1, 2, 3))"
   ]
  },
  {
   "cell_type": "code",
   "execution_count": 1,
   "metadata": {},
   "outputs": [
    {
     "name": "stdout",
     "output_type": "stream",
     "text": [
      "0\n",
      "1\n",
      "2\n",
      "3\n",
      "No Name provided\n"
     ]
    }
   ],
   "source": [
    "def function_name(*args,name='No Name provided'):\n",
    "    for arg in args:\n",
    "        print(arg)\n",
    "    print(name)\n",
    "\n",
    "function_name(0, 1, 2, 3)"
   ]
  },
  {
   "cell_type": "code",
   "execution_count": 4,
   "metadata": {},
   "outputs": [
    {
     "name": "stdout",
     "output_type": "stream",
     "text": [
      "2\n",
      "3\n",
      "4\n",
      "5\n",
      "Swakshwar\n"
     ]
    }
   ],
   "source": [
    "function_name(2, 3, 4, 5, name='Swakshwar')"
   ]
  },
  {
   "cell_type": "code",
   "execution_count": null,
   "metadata": {},
   "outputs": [],
   "source": [
    "sample_dict = {\n",
    "    'key1' : 1,\n",
    "    'key2' : 2\n",
    "}"
   ]
  },
  {
   "cell_type": "code",
   "execution_count": 5,
   "metadata": {},
   "outputs": [
    {
     "name": "stdout",
     "output_type": "stream",
     "text": [
      "2\n",
      "3\n",
      "4\n",
      "5\n",
      "a\n",
      "6\n",
      "b\n",
      "7\n"
     ]
    }
   ],
   "source": [
    "def new_function(*args, **kwargs):\n",
    "    for arg in args:\n",
    "        print(arg)\n",
    "    for kwarg in kwargs.keys():\n",
    "        print(kwarg)\n",
    "        print(kwargs[kwarg])\n",
    "\n",
    "new_function(2, 3, 4, 5, a=6, b=7)"
   ]
  },
  {
   "cell_type": "code",
   "execution_count": 7,
   "metadata": {},
   "outputs": [
    {
     "name": "stdout",
     "output_type": "stream",
     "text": [
      "course not provided in kwargs\n",
      "degree not provided in kwargs\n",
      "age not provided in kwargs\n"
     ]
    }
   ],
   "source": [
    "'''\n",
    "you have to create a function , in kwargs name, course, degree, age\n",
    "\n",
    "if name isnt provided in kwargs -> print(name isnt provided)\n",
    "\n",
    "'''\n",
    "\n",
    "def function_name_2(**kwargs):\n",
    "    if 'name' not in kwargs:\n",
    "        print(\"name not provided in kwargs\")\n",
    "    if 'course' not in kwargs:\n",
    "        print(\"course not provided in kwargs\")\n",
    "    \n",
    "    if 'degree' not in kwargs:\n",
    "        print(\"degree not provided in kwargs\")\n",
    "    if 'age' not in kwargs:\n",
    "        print(\"age not provided in kwargs\")\n",
    "\n",
    "\n",
    "function_name_2(name='swaksh')"
   ]
  },
  {
   "cell_type": "code",
   "execution_count": 8,
   "metadata": {},
   "outputs": [
    {
     "name": "stdout",
     "output_type": "stream",
     "text": [
      "1 2\n",
      "2 3\n",
      "3 4\n",
      "4 5\n",
      "5 6\n"
     ]
    }
   ],
   "source": [
    "list1 = [1, 2, 3, 4, 5, 6]\n",
    "list2 = [2, 3, 4, 5, 6]\n",
    "\n",
    "for a, b in zip(list1, list2):\n",
    "    print(a, b)"
   ]
  },
  {
   "cell_type": "markdown",
   "metadata": {},
   "source": [
    "### Enumerate function python\n",
    "<p>when dealing with iterators, we also need to keep a count of iterations. Python eases the programmers’ task by providing a built-in function enumerate() for this task. The enumerate () method adds a counter to an iterable and returns it in the form of an enumerating object. This enumerated object can then be used directly for loops or converted into a list of tuples using the list() function.</p>"
   ]
  },
  {
   "cell_type": "code",
   "execution_count": 1,
   "metadata": {},
   "outputs": [
    {
     "name": "stdout",
     "output_type": "stream",
     "text": [
      "0 a\n",
      "1 b\n",
      "2 c\n",
      "3 d\n"
     ]
    }
   ],
   "source": [
    "listC = ['a', 'b', 'c', 'd']\n",
    "for idx, ele in enumerate(listC):\n",
    "    print(idx, ele)"
   ]
  },
  {
   "cell_type": "markdown",
   "metadata": {},
   "source": [
    "### MAP\n",
    "<p>map is a method to map values to certain variables</p>\n",
    "<p>in map method we need to give 2 arguments , first one being the data type of each element from the hashable and second is the hashable itself that will get mapped to the variables after converted to the mentioned datatype</p>"
   ]
  },
  {
   "cell_type": "code",
   "execution_count": 6,
   "metadata": {},
   "outputs": [
    {
     "name": "stdout",
     "output_type": "stream",
     "text": [
      "2.0 3.0 5.0\n"
     ]
    }
   ],
   "source": [
    "listD = [2, 3, 5]\n",
    "# a, b, c = float(listD[0]), float(listD[1]), float(listD[2])\n",
    "a, b, c = map(float, listD)\n",
    "print(a, b, c)"
   ]
  },
  {
   "cell_type": "markdown",
   "metadata": {},
   "source": [
    "#### Unzipping"
   ]
  },
  {
   "cell_type": "code",
   "execution_count": 10,
   "metadata": {},
   "outputs": [
    {
     "name": "stdout",
     "output_type": "stream",
     "text": [
      "1\n",
      "2\n",
      "3\n",
      "4\n",
      "5\n"
     ]
    }
   ],
   "source": [
    "listE = [1,2,3,4,5]\n",
    "print(*listE, sep='\\n')"
   ]
  },
  {
   "cell_type": "code",
   "execution_count": 12,
   "metadata": {},
   "outputs": [
    {
     "name": "stdout",
     "output_type": "stream",
     "text": [
      "Madhu\n",
      "Navyaa\n",
      "Bhagyasri\n",
      "Jagdheesh\n"
     ]
    }
   ],
   "source": [
    "listF = ['Madhu', 'Navyaa','Bhagyasri', 'Jagdheesh']\n",
    "print(*listF, sep='\\n')"
   ]
  },
  {
   "cell_type": "markdown",
   "metadata": {},
   "source": [
    "### Dictionary\n",
    "- dictionary is a data structure that stores data in key-value pairs\n",
    "- in python dictionary keys are basically strings and values can be object of any classes"
   ]
  },
  {
   "cell_type": "code",
   "execution_count": 13,
   "metadata": {},
   "outputs": [],
   "source": [
    "sample_dict = {\n",
    "    'key1' : 1,\n",
    "    'key2' : 2\n",
    "}\n"
   ]
  },
  {
   "cell_type": "code",
   "execution_count": 14,
   "metadata": {},
   "outputs": [
    {
     "name": "stdout",
     "output_type": "stream",
     "text": [
      "key1 - 1\n",
      "key2 - 2\n"
     ]
    }
   ],
   "source": [
    "for key, value in sample_dict.items():\n",
    "    print(f'{key} - {value}')"
   ]
  },
  {
   "cell_type": "code",
   "execution_count": 15,
   "metadata": {},
   "outputs": [
    {
     "name": "stdout",
     "output_type": "stream",
     "text": [
      "key1\n",
      "key2\n"
     ]
    }
   ],
   "source": [
    "for key in sample_dict.keys():\n",
    "    print(key)"
   ]
  },
  {
   "cell_type": "code",
   "execution_count": 16,
   "metadata": {},
   "outputs": [
    {
     "name": "stdout",
     "output_type": "stream",
     "text": [
      "1\n",
      "2\n"
     ]
    }
   ],
   "source": [
    "for val in sample_dict.values():\n",
    "    print(val)"
   ]
  },
  {
   "cell_type": "code",
   "execution_count": null,
   "metadata": {},
   "outputs": [],
   "source": [
    "# Clear\n",
    "# Copy"
   ]
  }
 ],
 "metadata": {
  "kernelspec": {
   "display_name": "Python 3",
   "language": "python",
   "name": "python3"
  },
  "language_info": {
   "codemirror_mode": {
    "name": "ipython",
    "version": 3
   },
   "file_extension": ".py",
   "mimetype": "text/x-python",
   "name": "python",
   "nbconvert_exporter": "python",
   "pygments_lexer": "ipython3",
   "version": "3.10.11"
  }
 },
 "nbformat": 4,
 "nbformat_minor": 2
}
