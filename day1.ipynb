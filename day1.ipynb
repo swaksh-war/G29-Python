{
 "cells": [
  {
   "cell_type": "markdown",
   "metadata": {},
   "source": [
    "## Variables\n",
    "<p>In python we need to declare a variable by passing its name and the value it will contain</p>"
   ]
  },
  {
   "cell_type": "code",
   "execution_count": 1,
   "metadata": {},
   "outputs": [],
   "source": [
    "# 10 is a whole number that we can refer as Integer\n",
    "a = 10\n",
    "# Swakshwar is a string that is assigned to variable b\n",
    "b = 'Swakshwar'\n"
   ]
  },
  {
   "cell_type": "markdown",
   "metadata": {},
   "source": [
    "## Data Types in Python\n",
    "\n",
    "### Data Types are mainly of 3 types:\n",
    "    1. Numerical\n",
    "    2. Textual\n",
    "    3. Boolean\n",
    "\n",
    "### Numerical Data Types\n",
    "    1. Integer :- Any whole Number (i.e - 10, 20, 31, 32)\n",
    "    2. Flaot :- Any Decimal Number (i.e. - 9.88, 3.212)\n",
    "    3. Complex :- Any Complex number (i.e. - 1 + (-1)**(0.5))\n",
    "\n",
    "### Textual Data Types\n",
    "    String :-\n",
    "        a. raw string\n",
    "        b. formattable string\n",
    "        c. byte string\n",
    "\n",
    "### Boolean Data Type\n",
    "    Boolean - True/False    "
   ]
  },
  {
   "cell_type": "code",
   "execution_count": 3,
   "metadata": {},
   "outputs": [],
   "source": [
    "an_integer = 10\n",
    "a_float = 10.10\n",
    "a_complex = complex(10 + 2j)\n",
    "\n",
    "a_string = \"I am a boy\"\n",
    "\n",
    "a_boolean = True"
   ]
  },
  {
   "cell_type": "code",
   "execution_count": 5,
   "metadata": {},
   "outputs": [
    {
     "name": "stdout",
     "output_type": "stream",
     "text": [
      "<class 'int'> <class 'float'> <class 'complex'> <class 'str'> <class 'bool'>\n"
     ]
    }
   ],
   "source": [
    "print(type(an_integer), type(a_float), type(a_complex), type(a_string), type(a_boolean))"
   ]
  },
  {
   "cell_type": "markdown",
   "metadata": {},
   "source": [
    "### Number of different bases\n",
    "    1. Binary\n",
    "    2. Decimal\n",
    "    3. Octal\n",
    "    4. Hexadecimal"
   ]
  },
  {
   "cell_type": "code",
   "execution_count": 6,
   "metadata": {},
   "outputs": [
    {
     "name": "stdout",
     "output_type": "stream",
     "text": [
      "0b11 0o27 0x2d\n"
     ]
    }
   ],
   "source": [
    "a_binary = bin(3)\n",
    "an_octal = oct(23)\n",
    "a_hexadecimal = hex(45)\n",
    "\n",
    "print(a_binary, an_octal, a_hexadecimal)"
   ]
  },
  {
   "cell_type": "markdown",
   "metadata": {},
   "source": [
    "## Opearators\n",
    "    1. Arithmetic Operators -> Value (numerical)\n",
    "    2. Bitwise Operators -> Value (numerical)\n",
    "    3. Logical Operators -> Boolean (True/False)\n",
    "    4. Comparative Operators -> Boolean (True/False)\n",
    "    5. Assigning Operators -> assigns"
   ]
  },
  {
   "cell_type": "markdown",
   "metadata": {},
   "source": [
    "## Assigning Operators\n",
    "    Symbol -> '='\n",
    "    Usage -> Assign a value or object to a variable"
   ]
  },
  {
   "cell_type": "code",
   "execution_count": 7,
   "metadata": {},
   "outputs": [],
   "source": [
    "balaji = 10"
   ]
  },
  {
   "cell_type": "markdown",
   "metadata": {},
   "source": [
    "## Arithmetic Operators\n",
    "    1. Addition -> '+'\n",
    "    2. Subtraction -> '-'\n",
    "    3. Divide -> '/' -> It will produce float value after divide (5/2 -> 2.5)\n",
    "    4. Double Divide -> '//' It will produce the floor value of the division after performing the operation (5//2 -> 2)\n",
    "    5. Multiply -> '*'\n",
    "    6. Modulo -> '%' (remainder)"
   ]
  },
  {
   "cell_type": "code",
   "execution_count": 8,
   "metadata": {},
   "outputs": [],
   "source": [
    "example_addition = 10 + 2\n",
    "\n",
    "# You have to perform all the arithmetic operations by your self"
   ]
  },
  {
   "cell_type": "markdown",
   "metadata": {},
   "source": [
    "## Logical Operators\n",
    "    1. And -> it requires all the condition to be satisfied to give a result of True (Just like AND gate)\n",
    "    2. Or -> it requires any of the condition to be satisfied to give a result of True (Just like OR gate)\n",
    "    3. Not -> produces the opposite result of the condition (Just like NOT gate)"
   ]
  },
  {
   "cell_type": "markdown",
   "metadata": {},
   "source": [
    "## Comparative operators\n",
    "    1. Greater That Equal to -> >= (> =) -> Checks whether the LHS is Greater than or equal to the RHS (Produces True/False)\n",
    "    2. Not Equals To -> !=(! =) -> Checks whether the LHS is not equal to the RHS (Produces True/False)\n",
    "    3. Less Than Equal To -> <= (< =) -> Checks whether the LHS is less than or equal to the RHS (Produces True/False)\n",
    "    4. Equal To -> == (= =) -> Checks whether the LHS is equal to the RHS (Produces True/False)\n",
    "    5. Less Than -> < -> Checks whether the LHS is less than the RHS (Produces True/False)\n",
    "    6. Greater Than -> > -> Checks whether the LHS is greater than the RHS (Produces True/False)"
   ]
  },
  {
   "cell_type": "code",
   "execution_count": 14,
   "metadata": {},
   "outputs": [
    {
     "name": "stdout",
     "output_type": "stream",
     "text": [
      "False\n"
     ]
    }
   ],
   "source": [
    "check_greater_than = 10 > 11\n",
    "print(check_greater_than)\n",
    "# Create other examples...\n"
   ]
  },
  {
   "cell_type": "code",
   "execution_count": null,
   "metadata": {},
   "outputs": [],
   "source": []
  }
 ],
 "metadata": {
  "kernelspec": {
   "display_name": "Python 3",
   "language": "python",
   "name": "python3"
  },
  "language_info": {
   "codemirror_mode": {
    "name": "ipython",
    "version": 3
   },
   "file_extension": ".py",
   "mimetype": "text/x-python",
   "name": "python",
   "nbconvert_exporter": "python",
   "pygments_lexer": "ipython3",
   "version": "3.10.11"
  }
 },
 "nbformat": 4,
 "nbformat_minor": 2
}
